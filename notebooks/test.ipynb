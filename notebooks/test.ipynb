{
 "cells": [
  {
   "cell_type": "code",
   "execution_count": 1,
   "metadata": {},
   "outputs": [],
   "source": [
    "import redis\n",
    "import RedisArray as ra\n",
    "import time \n",
    "client = redis.Redis(host='localhost', port=6379, db=0)\n",
    "\n",
    "flush = True\n",
    "if flush:\n",
    "    client.flushdb()\n"
   ]
  },
  {
   "cell_type": "code",
   "execution_count": 2,
   "metadata": {},
   "outputs": [],
   "source": [
    "key = b\"computer\"\n",
    "\n",
    "array = ra.RedisArray(client, key)\n"
   ]
  },
  {
   "cell_type": "code",
   "execution_count": 14,
   "metadata": {},
   "outputs": [],
   "source": [
    "array[0] = bytes([255])"
   ]
  },
  {
   "cell_type": "code",
   "execution_count": 15,
   "metadata": {},
   "outputs": [],
   "source": [
    "array[0] = bytes([0])"
   ]
  },
  {
   "cell_type": "code",
   "execution_count": 11,
   "metadata": {},
   "outputs": [],
   "source": [
    "for i in range(20):\n",
    "    array[1] = bytes([0b10101010])\n",
    "    time.sleep(1)\n",
    "    array[1] = bytes([0b01010101])\n",
    "    time.sleep(1)\n",
    "    array[1] = bytes([0b00000000])\n"
   ]
  },
  {
   "cell_type": "code",
   "execution_count": 4,
   "metadata": {},
   "outputs": [
    {
     "name": "stdout",
     "output_type": "stream",
     "text": [
      "[97, 132, 127]\n",
      "[103, 144, 127]\n",
      "[112, 152, 127]\n",
      "[122, 158, 127]\n",
      "[134, 161, 127]\n",
      "[145, 160, 127]\n",
      "[155, 154, 127]\n",
      "[161, 144, 127]\n",
      "[163, 132, 127]\n",
      "[160, 120, 127]\n",
      "[153, 109, 127]\n",
      "[143, 101, 127]\n",
      "[132, 97, 127]\n",
      "[121, 95, 127]\n",
      "[110, 98, 127]\n",
      "[100, 104, 127]\n",
      "[93, 113, 127]\n",
      "[90, 125, 127]\n",
      "[93, 137, 127]\n",
      "[100, 148, 127]\n"
     ]
    }
   ],
   "source": [
    "for i in range(20):\n",
    "    print(array[3:6])\n",
    "    time.sleep(1)\n"
   ]
  }
 ],
 "metadata": {
  "kernelspec": {
   "display_name": "base",
   "language": "python",
   "name": "python3"
  },
  "language_info": {
   "codemirror_mode": {
    "name": "ipython",
    "version": 3
   },
   "file_extension": ".py",
   "mimetype": "text/x-python",
   "name": "python",
   "nbconvert_exporter": "python",
   "pygments_lexer": "ipython3",
   "version": "3.12.4"
  }
 },
 "nbformat": 4,
 "nbformat_minor": 2
}
