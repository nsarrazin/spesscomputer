{
 "cells": [
  {
   "cell_type": "code",
   "execution_count": 16,
   "metadata": {},
   "outputs": [],
   "source": [
    "import redis\n",
    "import RedisArray as ra\n",
    "import time \n",
    "client = redis.Redis(host='localhost', port=6379, db=0)\n",
    "\n",
    "flush = True\n",
    "if flush:\n",
    "    client.flushdb()\n"
   ]
  },
  {
   "cell_type": "code",
   "execution_count": 36,
   "metadata": {},
   "outputs": [],
   "source": [
    "key = b\"computer\"\n",
    "\n",
    "array = ra.RedisArray(client, key)\n",
    "\n",
    "def main_thruster(state):\n",
    "    if state:\n",
    "        array[0] = bytes([255])\n",
    "    else:\n",
    "        array[0] = bytes([0])\n",
    "\n",
    "def control_thrusters(mask):\n",
    "    array[1] = bytes([mask])\n"
   ]
  },
  {
   "cell_type": "code",
   "execution_count": 49,
   "metadata": {},
   "outputs": [
    {
     "ename": "KeyboardInterrupt",
     "evalue": "",
     "output_type": "error",
     "traceback": [
      "\u001b[0;31m---------------------------------------------------------------------------\u001b[0m",
      "\u001b[0;31mKeyboardInterrupt\u001b[0m                         Traceback (most recent call last)",
      "Cell \u001b[0;32mIn[49], line 20\u001b[0m\n\u001b[1;32m     18\u001b[0m \u001b[38;5;28;01mwhile\u001b[39;00m \u001b[38;5;28;01mTrue\u001b[39;00m: \n\u001b[1;32m     19\u001b[0m     control_thrusters(\u001b[38;5;241m0b11000000\u001b[39m)\n\u001b[0;32m---> 20\u001b[0m     time\u001b[38;5;241m.\u001b[39msleep(\u001b[38;5;241m1\u001b[39m\u001b[38;5;241m/\u001b[39mFREQ)\n\u001b[1;32m     21\u001b[0m     control_thrusters(\u001b[38;5;241m0b00110000\u001b[39m)\n\u001b[1;32m     22\u001b[0m     time\u001b[38;5;241m.\u001b[39msleep(\u001b[38;5;241m1\u001b[39m\u001b[38;5;241m/\u001b[39mFREQ)\n",
      "\u001b[0;31mKeyboardInterrupt\u001b[0m: "
     ]
    }
   ],
   "source": [
    "FREQ = 50 #hz\n",
    "# while True:\n",
    "#     control_thrusters(0b10100000)\n",
    "#     time.sleep(1/FREQ)\n",
    "#     control_thrusters(0b01010000)\n",
    "#     time.sleep(1/FREQ)\n",
    "#     control_thrusters(0b00000011)\n",
    "#     time.sleep(1/FREQ)\n",
    "#     main_thruster(True)\n",
    "#     time.sleep(1/FREQ)\n",
    "#     main_thruster(False)\n",
    "#     time.sleep(1/FREQ)\n",
    "#     control_thrusters(0b00001100)\n",
    "#     time.sleep(1/FREQ)\n",
    "#     control_thrusters(0b00000000)\n",
    "#     time.sleep(1/FREQ)\n",
    "\n",
    "while True: \n",
    "    control_thrusters(0b11000000)\n",
    "    time.sleep(1/FREQ)\n",
    "    control_thrusters(0b00110000)\n",
    "    time.sleep(1/FREQ)\n",
    "    control_thrusters(0b00001010)\n",
    "    time.sleep(1/FREQ)\n",
    "    control_thrusters(0b00000101)\n",
    "    time.sleep(1/FREQ)\n",
    "    # control_thrusters(0b00000000)\n",
    "    # time.sleep(1)\n"
   ]
  }
 ],
 "metadata": {
  "kernelspec": {
   "display_name": "base",
   "language": "python",
   "name": "python3"
  },
  "language_info": {
   "codemirror_mode": {
    "name": "ipython",
    "version": 3
   },
   "file_extension": ".py",
   "mimetype": "text/x-python",
   "name": "python",
   "nbconvert_exporter": "python",
   "pygments_lexer": "ipython3",
   "version": "3.12.4"
  }
 },
 "nbformat": 4,
 "nbformat_minor": 2
}
