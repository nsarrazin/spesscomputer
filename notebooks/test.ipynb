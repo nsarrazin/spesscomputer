{
 "cells": [
  {
   "cell_type": "code",
   "execution_count": 1,
   "metadata": {},
   "outputs": [],
   "source": [
    "import redis\n",
    "import RedisArray as ra\n",
    "import time \n",
    "client = redis.Redis(host='localhost', port=6379, db=0)\n",
    "\n",
    "flush = True\n",
    "if flush:\n",
    "    client.flushdb()\n"
   ]
  },
  {
   "cell_type": "code",
   "execution_count": 2,
   "metadata": {},
   "outputs": [],
   "source": [
    "key = b\"computer\"\n",
    "\n",
    "array = ra.RedisArray(client, key)\n",
    "\n",
    "def main_thruster(state):\n",
    "    if state:\n",
    "        array[0] = bytes([255])\n",
    "    else:\n",
    "        array[0] = bytes([0])\n",
    "\n",
    "def control_thrusters(mask):\n",
    "    array[1] = bytes([mask])\n"
   ]
  },
  {
   "cell_type": "code",
   "execution_count": null,
   "metadata": {},
   "outputs": [],
   "source": [
    "FREQ = 0.001 #hz\n",
    "while True:\n",
    "    control_thrusters(0b10100000)\n",
    "    time.sleep(1/FREQ)\n",
    "    control_thrusters(0b01010000)\n",
    "    time.sleep(1/FREQ)\n",
    "    control_thrusters(0b00000011)\n",
    "    time.sleep(1/FREQ)\n",
    "    control_thrusters(0b00001100)\n",
    "    time.sleep(1/FREQ)\n",
    "    control_thrusters(0b00000000)\n",
    "    time.sleep(1/FREQ)\n",
    "\n",
    "\n",
    "# control_thrusters(0b00000000)\n",
    "\n",
    "\n",
    "main_thruster(False)"
   ]
  }
 ],
 "metadata": {
  "kernelspec": {
   "display_name": "base",
   "language": "python",
   "name": "python3"
  },
  "language_info": {
   "codemirror_mode": {
    "name": "ipython",
    "version": 3
   },
   "file_extension": ".py",
   "mimetype": "text/x-python",
   "name": "python",
   "nbconvert_exporter": "python",
   "pygments_lexer": "ipython3",
   "version": "3.12.4"
  }
 },
 "nbformat": 4,
 "nbformat_minor": 2
}
